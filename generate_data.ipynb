{
 "cells": [
  {
   "cell_type": "code",
   "execution_count": 1,
   "metadata": {},
   "outputs": [],
   "source": [
    "import numpy as np\n",
    "import pandas as pd\n",
    "\n",
    "import scvi\n",
    "from scvi.dataset.pbmc import PbmcDataset\n",
    "from scvi.dataset.loom import RetinaDataset\n",
    "\n",
    "import anndata"
   ]
  },
  {
   "cell_type": "code",
   "execution_count": 2,
   "metadata": {},
   "outputs": [
    {
     "name": "stdout",
     "output_type": "stream",
     "text": [
      "[NbConvertApp] Converting notebook generate_data.ipynb to script\n",
      "[NbConvertApp] Writing 4498 bytes to generate_data.py\n"
     ]
    }
   ],
   "source": [
    "# create a python script from the notebook\n",
    "!jupyter nbconvert generate_data.ipynb --to script"
   ]
  },
  {
   "cell_type": "markdown",
   "metadata": {},
   "source": [
    "## Configurations"
   ]
  },
  {
   "cell_type": "code",
   "execution_count": 3,
   "metadata": {},
   "outputs": [
    {
     "name": "stdout",
     "output_type": "stream",
     "text": [
      "File data/retina.loom already downloaded\n",
      "Preprocessing dataset\n",
      "Finished preprocessing dataset\n"
     ]
    }
   ],
   "source": [
    "# this sets the file name prefix for generated files\n",
    "prefix = \"retina_eq_ct\"\n",
    "\n",
    "# choose a dataset to use\n",
    "#gene_dataset = PbmcDataset()\n",
    "gene_dataset = RetinaDataset()\n",
    "\n",
    "# optionally, balance the cell-type composition between the batches\n",
    "equal_cell_types = False"
   ]
  },
  {
   "cell_type": "markdown",
   "metadata": {},
   "source": [
    "## Get cell-type and batch labels from scVI dataset object\n",
    "For each dataset we need: \n",
    "    (1) an gene expression count matrix \n",
    "    (2) cell type labels\n",
    "    (3) batch labels"
   ]
  },
  {
   "cell_type": "code",
   "execution_count": 4,
   "metadata": {},
   "outputs": [],
   "source": [
    "# get cell type labels\n",
    "cell_types = [gene_dataset.cell_types[i] for i in gene_dataset.labels.ravel()]\n",
    "\n",
    "# labels = pd.DataFrame(gene_dataset.batch_indices, columns=[\"batch_cov\"])\n",
    "# labels[\"ct_cov\"] = cell_types\n",
    "# labels.to_csv(prefix + \"_batch_labels.csv\", sep=\",\", header=True, index=False)"
   ]
  },
  {
   "cell_type": "code",
   "execution_count": 5,
   "metadata": {},
   "outputs": [
    {
     "data": {
      "text/plain": [
       "array([[0],\n",
       "       [0],\n",
       "       [0],\n",
       "       ...,\n",
       "       [0],\n",
       "       [0],\n",
       "       [0]])"
      ]
     },
     "execution_count": 5,
     "metadata": {},
     "output_type": "execute_result"
    }
   ],
   "source": [
    "# batch labels\n",
    "gene_dataset.batch_indices"
   ]
  },
  {
   "cell_type": "code",
   "execution_count": 6,
   "metadata": {},
   "outputs": [
    {
     "name": "stdout",
     "output_type": "stream",
     "text": [
      "19829\n"
     ]
    }
   ],
   "source": [
    "print(len(gene_dataset.batch_indices))"
   ]
  },
  {
   "cell_type": "markdown",
   "metadata": {},
   "source": [
    "## Get the expression data, batch labels, and cell type labels into an AnnData object"
   ]
  },
  {
   "cell_type": "code",
   "execution_count": 7,
   "metadata": {},
   "outputs": [],
   "source": [
    "ad = anndata.AnnData(gene_dataset.X, obs={\"batch_cov\": list([i[0] for i in gene_dataset.batch_indices]), \"ct_cov\": cell_types})"
   ]
  },
  {
   "cell_type": "code",
   "execution_count": 8,
   "metadata": {},
   "outputs": [
    {
     "name": "stdout",
     "output_type": "stream",
     "text": [
      "(19829, 13166)\n"
     ]
    }
   ],
   "source": [
    "print(ad.X.shape)"
   ]
  },
  {
   "cell_type": "code",
   "execution_count": 9,
   "metadata": {},
   "outputs": [
    {
     "name": "stdout",
     "output_type": "stream",
     "text": [
      "==============================\n",
      "0\n",
      "==============================\n",
      "RBC      5310\n",
      "MG        920\n",
      "BC5A      812\n",
      "BC6       641\n",
      "BC7       614\n",
      "BC1A      381\n",
      "BC5C      367\n",
      "BC3B      264\n",
      "BC1B      252\n",
      "BC3A      190\n",
      "BC2       155\n",
      "BC5D      112\n",
      "BC4        90\n",
      "BC8_9      73\n",
      "BC5B       53\n",
      "Name: ct_cov, dtype: int64\n",
      "RBC      0.518859\n",
      "MG       0.089896\n",
      "BC5A     0.079343\n",
      "BC6      0.062634\n",
      "BC7      0.059996\n",
      "BC1A     0.037229\n",
      "BC5C     0.035861\n",
      "BC3B     0.025796\n",
      "BC1B     0.024624\n",
      "BC3A     0.018566\n",
      "BC2      0.015146\n",
      "BC5D     0.010944\n",
      "BC4      0.008794\n",
      "BC8_9    0.007133\n",
      "BC5B     0.005179\n",
      "Name: ct_cov, dtype: float64\n",
      "==============================\n",
      "1\n",
      "==============================\n",
      "RBC      2865\n",
      "MG       1295\n",
      "BC5A      871\n",
      "BC7       698\n",
      "BC5C      667\n",
      "BC6       622\n",
      "BC1A      454\n",
      "BC3B      348\n",
      "BC1B      333\n",
      "BC5B      299\n",
      "BC5D      290\n",
      "BC2       265\n",
      "BC3A      230\n",
      "BC4       214\n",
      "BC8_9     144\n",
      "Name: ct_cov, dtype: int64\n",
      "RBC      0.298593\n",
      "MG       0.134966\n",
      "BC5A     0.090776\n",
      "BC7      0.072746\n",
      "BC5C     0.069515\n",
      "BC6      0.064825\n",
      "BC1A     0.047316\n",
      "BC3B     0.036269\n",
      "BC1B     0.034706\n",
      "BC5B     0.031162\n",
      "BC5D     0.030224\n",
      "BC2      0.027619\n",
      "BC3A     0.023971\n",
      "BC4      0.022303\n",
      "BC8_9    0.015008\n",
      "Name: ct_cov, dtype: float64\n"
     ]
    }
   ],
   "source": [
    "# for each batch, look at distribution of cell types\n",
    "for batch in np.unique(ad.obs[\"batch_cov\"]):\n",
    "    print(\"=\"*30)\n",
    "    print(batch)\n",
    "    print(\"=\"*30)\n",
    "    print(ad.obs[ad.obs[\"batch_cov\"]==batch][\"ct_cov\"].value_counts())\n",
    "    print(ad.obs[ad.obs[\"batch_cov\"]==batch][\"ct_cov\"].value_counts()/ad.obs[ad.obs[\"batch_cov\"]==batch].shape[0])"
   ]
  },
  {
   "cell_type": "markdown",
   "metadata": {},
   "source": [
    "## Optional: subsample cells so that cell type compositions match between batches\n"
   ]
  },
  {
   "cell_type": "code",
   "execution_count": 10,
   "metadata": {},
   "outputs": [],
   "source": [
    "if equal_cell_types:\n",
    "    # subsample the cells so that cell type proportions match in each batch\n",
    "    min_num_cells_per_cell_type = {}\n",
    "    for ct in ad.obs[\"ct_cov\"].unique():\n",
    "        min_num_cells = np.min(ad.obs[ad.obs[\"ct_cov\"]==ct][\"batch_cov\"].value_counts())\n",
    "        min_num_cells_per_cell_type[ct] = min_num_cells\n",
    "    print(min_num_cells_per_cell_type)\n",
    "\n",
    "    print(ad.shape)\n",
    "\n",
    "    # for a batch, if we find it has more than the minimum number of a particular cell type, downsample\n",
    "    final_indices = []\n",
    "    for batch in ad.obs[\"batch_cov\"].unique():\n",
    "        for ct in ad.obs[\"ct_cov\"].unique():\n",
    "    #        if sc_data[(sc_data.obs[\"batch_cov\"]==batch) & (sc_data.obs[\"ct_cov\"]==ct)].shape[0] > min_num_cells_per_cell_type[ct]:\n",
    "            indices = ad[(ad.obs[\"batch_cov\"]==batch) & (ad.obs[\"ct_cov\"]==ct)].to_df().index\n",
    "            indices_to_keep = np.random.choice(indices, size=min_num_cells_per_cell_type[ct], replace=False)\n",
    "            final_indices = final_indices + list(indices_to_keep)\n",
    "\n",
    "    print(len(final_indices))\n",
    "    ad = ad[final_indices, :]\n",
    "    print(ad.shape)\n",
    "    \n",
    "    # for each batch, look at distribution of cell types\n",
    "    for batch in ad.obs[\"batch_cov\"].unique():\n",
    "        print(\"=\"*30)\n",
    "        print(batch)\n",
    "        print(\"=\"*30)\n",
    "        print(ad.obs[ad.obs[\"batch_cov\"]==batch][\"ct_cov\"].value_counts())\n",
    "        print(ad.obs[ad.obs[\"batch_cov\"]==batch][\"ct_cov\"].value_counts()/ad.obs[ad.obs[\"batch_cov\"]==batch].shape[0])"
   ]
  },
  {
   "cell_type": "code",
   "execution_count": 11,
   "metadata": {},
   "outputs": [],
   "source": [
    "# create the cells x genes matrix csv files\n",
    "try: \n",
    "    pd.DataFrame(ad.X.todense(), columns=ad.var_names).to_csv(prefix + \".csv\", sep=\",\", header=True, index=False)\n",
    "except AttributeError:\n",
    "    pd.DataFrame(ad.X, columns=ad.var_names).to_csv(prefix + \".csv\", sep=\",\", header=True, index=False)"
   ]
  },
  {
   "cell_type": "code",
   "execution_count": 12,
   "metadata": {},
   "outputs": [],
   "source": [
    "# this step is for generating data for DCA (requires genes x cells matrix)\n",
    "try: \n",
    "    pd.DataFrame(ad.X.todense(), columns=ad.var_names).T.to_csv(prefix + \"_T.csv\", sep=\",\", header=True, index=False)\n",
    "except AttributeError:\n",
    "    pd.DataFrame(ad.X, columns=ad.var_names).T.to_csv(prefix + \"_T.csv\", sep=\",\", header=True, index=False)"
   ]
  },
  {
   "cell_type": "code",
   "execution_count": 13,
   "metadata": {},
   "outputs": [
    {
     "name": "stdout",
     "output_type": "stream",
     "text": [
      "    batch_cov ct_cov\n",
      "0           0   BC5A\n",
      "1           0   BC5C\n",
      "2           0    BC6\n",
      "3           0    RBC\n",
      "4           1   BC1A\n",
      "5           0    RBC\n",
      "6           1    BC7\n",
      "7           1   BC5A\n",
      "8           0    RBC\n",
      "9           0    RBC\n",
      "10          1   BC1A\n",
      "11          1   BC5A\n",
      "12          0    RBC\n",
      "13          1   BC5D\n",
      "14          0    RBC\n",
      "15          1   BC1A\n",
      "16          1   BC3A\n",
      "17          0    RBC\n",
      "18          0   BC5D\n",
      "19          1    RBC\n",
      "(19829, 2)\n"
     ]
    }
   ],
   "source": [
    "# get cell type labels from object\n",
    "cell_types = ad.obs[\"ct_cov\"]\n",
    "\n",
    "#labels = pd.DataFrame(gene_dataset.batch_indices, columns=[\"batch_cov\"])\n",
    "labels = pd.DataFrame(ad.obs[\"batch_cov\"], columns=[\"batch_cov\"])\n",
    "labels[\"ct_cov\"] = cell_types\n",
    "print(labels.head(20))\n",
    "print(labels.shape)\n",
    "labels.to_csv(prefix + \"_batch_labels.csv\", sep=\",\", header=True, index=False)"
   ]
  },
  {
   "cell_type": "code",
   "execution_count": 14,
   "metadata": {},
   "outputs": [
    {
     "name": "stderr",
     "output_type": "stream",
     "text": [
      "... storing 'ct_cov' as categorical\n"
     ]
    }
   ],
   "source": [
    "# write AnnDataset to h5ad file\n",
    "ad.write(prefix + \".h5ad\")"
   ]
  },
  {
   "cell_type": "code",
   "execution_count": null,
   "metadata": {},
   "outputs": [],
   "source": []
  }
 ],
 "metadata": {
  "kernelspec": {
   "display_name": "Python sc",
   "language": "python",
   "name": "sc"
  },
  "language_info": {
   "codemirror_mode": {
    "name": "ipython",
    "version": 3
   },
   "file_extension": ".py",
   "mimetype": "text/x-python",
   "name": "python",
   "nbconvert_exporter": "python",
   "pygments_lexer": "ipython3",
   "version": "3.6.7"
  }
 },
 "nbformat": 4,
 "nbformat_minor": 2
}
