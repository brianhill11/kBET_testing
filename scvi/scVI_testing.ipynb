{
 "cells": [
  {
   "cell_type": "code",
   "execution_count": 1,
   "metadata": {},
   "outputs": [],
   "source": [
    "%load_ext rpy2.ipython\n",
    "import numpy as np\n",
    "import pandas as pd\n",
    "import matplotlib.pyplot as plt\n",
    "\n",
    "from sklearn.manifold import TSNE\n",
    "\n",
    "from scvi.dataset import AnnDataset\n",
    "from scvi.dataset import CortexDataset, RetinaDataset, PbmcDataset\n",
    "from scvi.models import *\n",
    "from scvi.inference import UnsupervisedTrainer"
   ]
  },
  {
   "cell_type": "code",
   "execution_count": 2,
   "metadata": {},
   "outputs": [
    {
     "name": "stdout",
     "output_type": "stream",
     "text": [
      "[NbConvertApp] Converting notebook scVI_testing.ipynb to script\n",
      "[NbConvertApp] Writing 2637 bytes to scVI_testing.py\n"
     ]
    }
   ],
   "source": [
    "# create a python script from the notebook\n",
    "!jupyter nbconvert scVI_testing.ipynb --to script"
   ]
  },
  {
   "cell_type": "code",
   "execution_count": 3,
   "metadata": {},
   "outputs": [
    {
     "name": "stdout",
     "output_type": "stream",
     "text": [
      "File ../data/gene_info_pbmc.csv already downloaded\n",
      "File ../data/pbmc_metadata.pickle already downloaded\n",
      "File ../data/10X/pbmc8k/filtered_gene_bc_matrices.tar.gz already downloaded\n",
      "Preprocessing dataset\n",
      "Finished preprocessing dataset\n",
      "File ../data/10X/pbmc4k/filtered_gene_bc_matrices.tar.gz already downloaded\n",
      "Preprocessing dataset\n",
      "Finished preprocessing dataset\n",
      "Keeping 33694 genes\n",
      "Downsampling from 12721 to 11990 cells\n",
      "Downsampling from 33694 to 3346 genes\n",
      "Downsampling from 11990 to 11990 cells\n"
     ]
    }
   ],
   "source": [
    "#gene_dataset = AnnDataset(filename=\"subsampled_CLUESImmVar_nonorm.h5ad\", save_path=\"./\")\n",
    "gene_dataset = PbmcDataset(save_path=\"../data\")"
   ]
  },
  {
   "cell_type": "code",
   "execution_count": null,
   "metadata": {},
   "outputs": [],
   "source": [
    "n_epochs_all = None\n",
    "#save_path = 'data/'\n",
    "show_plot = True\n",
    "\n",
    "n_epochs=400 if n_epochs_all is None else n_epochs_all\n",
    "#n_epochs=4 if n_epochs_all is None else n_epochs_all\n",
    "lr=1e-3\n",
    "use_batches=True\n",
    "use_cuda=True"
   ]
  },
  {
   "cell_type": "code",
   "execution_count": null,
   "metadata": {},
   "outputs": [],
   "source": [
    "print(gene_dataset.n_batches)"
   ]
  },
  {
   "cell_type": "code",
   "execution_count": null,
   "metadata": {},
   "outputs": [],
   "source": [
    "vae = VAE(gene_dataset.nb_genes, n_batch=gene_dataset.n_batches * use_batches)\n",
    "trainer = UnsupervisedTrainer(vae,\n",
    "                              gene_dataset,\n",
    "                              train_size=0.75,\n",
    "                              use_cuda=use_cuda,\n",
    "                              frequency=5)\n",
    "trainer.train(n_epochs=n_epochs, lr=lr)"
   ]
  },
  {
   "cell_type": "code",
   "execution_count": null,
   "metadata": {},
   "outputs": [],
   "source": [
    "n_samples_tsne = 1000\n",
    "trainer.train_set.show_t_sne(n_samples=n_samples_tsne, color_by='labels')"
   ]
  },
  {
   "cell_type": "code",
   "execution_count": null,
   "metadata": {},
   "outputs": [],
   "source": []
  },
  {
   "cell_type": "code",
   "execution_count": null,
   "metadata": {},
   "outputs": [],
   "source": [
    "# Plotting the likelihood change across the 50 epochs of training: blue for training error and orange for testing error. \n",
    "\n",
    "ll_train = trainer.history[\"ll_train_set\"]\n",
    "ll_test = trainer.history[\"ll_test_set\"]\n",
    "x = np.linspace(0,50,(len(ll_train)))\n",
    "plt.plot(x, ll_train)\n",
    "plt.plot(x, ll_test)\n",
    "plt.ylim(min(ll_train)-50, 3500)"
   ]
  },
  {
   "cell_type": "code",
   "execution_count": null,
   "metadata": {},
   "outputs": [],
   "source": [
    "print(\"Entropy batch mixing :\", trainer.train_set.entropy_batch_mixing())"
   ]
  },
  {
   "cell_type": "code",
   "execution_count": null,
   "metadata": {},
   "outputs": [],
   "source": [
    "# obtaining latent space in the same order as the input data\n",
    "n_samples_tsne = 1000\n",
    "trainer.train_set.show_t_sne(n_samples=n_samples_tsne, color_by='batches and labels', save_name='latent_proj.png')"
   ]
  },
  {
   "cell_type": "code",
   "execution_count": null,
   "metadata": {},
   "outputs": [],
   "source": [
    "latent_data, batch_indices, labels = trainer.train_set.get_latent()"
   ]
  },
  {
   "cell_type": "code",
   "execution_count": null,
   "metadata": {},
   "outputs": [],
   "source": [
    "pd.DataFrame(latent_data).to_csv(\"latent_proj.csv\", sep=\",\", header=True, index=False)\n",
    "covar_labels = pd.DataFrame(batch_indices, columns=[\"batch_cov\"])\n",
    "covar_labels[\"ct_cov\"] = labels\n",
    "covar_labels.to_csv(\"latent_proj_batch_labels.csv\", sep=\",\", header=True, index=False)"
   ]
  },
  {
   "cell_type": "code",
   "execution_count": null,
   "metadata": {},
   "outputs": [],
   "source": [
    "%%R -i latent_data -i batch_indices -o batch_estimate\n",
    "library(kBET)\n",
    "\n",
    "batch_estimate <- kBET(latent_data, batch_indices, do.pca=FALSE, n_repeat=20, verbose=TRUE)"
   ]
  },
  {
   "cell_type": "code",
   "execution_count": null,
   "metadata": {},
   "outputs": [],
   "source": [
    "batch_estimate"
   ]
  }
 ],
 "metadata": {
  "kernelspec": {
   "display_name": "Python [conda env:sc]",
   "language": "python",
   "name": "conda-env-sc-py"
  },
  "language_info": {
   "codemirror_mode": {
    "name": "ipython",
    "version": 3
   },
   "file_extension": ".py",
   "mimetype": "text/x-python",
   "name": "python",
   "nbconvert_exporter": "python",
   "pygments_lexer": "ipython3",
   "version": "3.6.7"
  }
 },
 "nbformat": 4,
 "nbformat_minor": 2
}
